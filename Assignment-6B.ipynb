{
  "nbformat": 4,
  "nbformat_minor": 0,
  "metadata": {
    "colab": {
      "name": "Assignment-6B.ipynb",
      "provenance": [],
      "authorship_tag": "ABX9TyNE2COO91Sq62bL2rgLCP+F"
    },
    "kernelspec": {
      "name": "python3",
      "display_name": "Python 3"
    }
  },
  "cells": [
    {
      "cell_type": "code",
      "metadata": {
        "id": "8_Yvn7-ilf0U",
        "colab_type": "code",
        "colab": {}
      },
      "source": [
        "import pandas as pd\n",
        "\n",
        "data= pd.read_csv(\"kc_house_data.csv\")\n",
        "data.head()"
      ],
      "execution_count": null,
      "outputs": []
    },
    {
      "cell_type": "code",
      "metadata": {
        "id": "12nHuc37mAlI",
        "colab_type": "code",
        "colab": {}
      },
      "source": [
        "data = data[['price', 'sqft_living']]\n",
        "data"
      ],
      "execution_count": null,
      "outputs": []
    },
    {
      "cell_type": "code",
      "metadata": {
        "id": "gyTx7qELo0gc",
        "colab_type": "code",
        "colab": {}
      },
      "source": [
        "from sklearn.preprocessing import StandardScaler\n",
        "\n",
        "scaler = StandardScaler()\n",
        "data = scaler.fit_transform(data)"
      ],
      "execution_count": 5,
      "outputs": []
    },
    {
      "cell_type": "code",
      "metadata": {
        "id": "WQti-ptfo_HM",
        "colab_type": "code",
        "colab": {}
      },
      "source": [
        "data= pd.DataFrame(data=data, columns=[\"price\",\"sqft_living\"])\n",
        "data"
      ],
      "execution_count": null,
      "outputs": []
    },
    {
      "cell_type": "code",
      "metadata": {
        "id": "qtt7qzSipIUl",
        "colab_type": "code",
        "colab": {}
      },
      "source": [
        "from sklearn.model_selection import train_test_split\n",
        "x_train, x_test, y_train, y_test = train_test_split(data.iloc[:, 1], data.iloc[:, 0], test_size = 0.10, random_state = 42)"
      ],
      "execution_count": 8,
      "outputs": []
    },
    {
      "cell_type": "code",
      "metadata": {
        "id": "f8ulS__2pU1h",
        "colab_type": "code",
        "colab": {}
      },
      "source": [
        "print(x_train.shape, y_train.shape, x_test.shape, y_test.shape)"
      ],
      "execution_count": null,
      "outputs": []
    },
    {
      "cell_type": "code",
      "metadata": {
        "id": "g3b_gM9WpZCD",
        "colab_type": "code",
        "colab": {}
      },
      "source": [
        "batch_size = 32\n",
        "n_minibatches = x_train.shape[0] // batch_size\n",
        "\n",
        "def create_mini_batches(x_tr, y_tr, batch_size):\n",
        "    mini_batches = [] \n",
        "    global n_minibatches\n",
        "    for i in range(n_minibatches + 1): \n",
        "        X_mini = x_tr.iloc[i * batch_size : (i + 1) * batch_size]\n",
        "        Y_mini = y_tr.iloc[i * batch_size : (i + 1) * batch_size]\n",
        "        mini_batches.append((X_mini, Y_mini)) \n",
        "        if x_tr.shape[0] % batch_size != 0:\n",
        "            X_mini = x_tr.iloc[i * batch_size: x_tr.shape[0]]\n",
        "            Y_mini  = y_tr.iloc[i * batch_size: y_tr.shape[0]]\n",
        "        mini_batches.append((X_mini,Y_mini)) \n",
        "    return mini_batches \n",
        "\n",
        "mini_batches_all = create_mini_batches(x_train, y_train, batch_size)"
      ],
      "execution_count": 11,
      "outputs": []
    },
    {
      "cell_type": "code",
      "metadata": {
        "id": "T2DCg2HlpnPw",
        "colab_type": "code",
        "colab": {
          "base_uri": "https://localhost:8080/",
          "height": 221
        },
        "outputId": "747fd9d2-402c-457c-dd57-f9db3531f339"
      },
      "source": [
        "m = 1 #Initial value of slope\n",
        "c = -1 #Initial value of intercept\n",
        "lr = 0.1 #Learning Rate\n",
        "delta_m = 1 #Initialising Δm\n",
        "delta_c = 1 #Initialising Δc\n",
        "max_iters = 10 #Maximum number of iterations  \n",
        "iters_count = 0 #Counting Iterations\n",
        "\n",
        "\n",
        "def deriv(m_f, c_f, datax, datay):\n",
        "    m_deriv = 0\n",
        "    c_deriv = 0\n",
        "    for i in range(datax.shape[0]):\n",
        "        x, y = datax.iloc[i], datay.iloc[i]\n",
        "        m_deriv += (y-m_f*x-c_f)*x\n",
        "        c_deriv += (y-m_f*x-c_f)\n",
        "        m_deriv = -m_deriv/len(datax)\n",
        "        c_deriv = -c_deriv/len(datay)\n",
        "    return m_deriv, c_deriv  \n",
        "\n",
        "\n",
        "while iters_count < max_iters:\n",
        "    for i in range(n_minibatches):\n",
        "        x_b, y_b = mini_batches_all[i]\n",
        "        delta_m, delta_c = deriv(m, c, x_b, y_b)\n",
        "        delta_m = -lr * delta_m\n",
        "        delta_c = -lr * delta_c\n",
        "        m += delta_m\n",
        "        c += delta_c\n",
        "    iters_count += 1\n",
        "    print(f\"Iteration: {iters_count}\\tValue of m: {m}, \\tValue of c: {c}\")\n",
        "\n",
        "print(f\"\\nThe local minima occurs at: {m}, {c}\")"
      ],
      "execution_count": 14,
      "outputs": [
        {
          "output_type": "stream",
          "text": [
            "Iteration: 1\tValue of m: 0.7854519952272078, \tValue of c: -0.42623490300776085\n",
            "Iteration: 2\tValue of m: 0.6991958183454019, \tValue of c: -0.1998127151903294\n",
            "Iteration: 3\tValue of m: 0.664502091937808, \tValue of c: -0.1104670174729536\n",
            "Iteration: 4\tValue of m: 0.6505413559816704, \tValue of c: -0.07521396904228948\n",
            "Iteration: 5\tValue of m: 0.6449210012033875, \tValue of c: -0.06130526796593927\n",
            "Iteration: 6\tValue of m: 0.6426573033205328, \tValue of c: -0.05581818221857195\n",
            "Iteration: 7\tValue of m: 0.6417451379058001, \tValue of c: -0.05365366755820519\n",
            "Iteration: 8\tValue of m: 0.641377407070127, \tValue of c: -0.0527998970002293\n",
            "Iteration: 9\tValue of m: 0.6412290908908382, \tValue of c: -0.05246316698493894\n",
            "Iteration: 10\tValue of m: 0.6411692428991926, \tValue of c: -0.052330372341350184\n",
            "\n",
            "The local minima occurs at: 0.6411692428991926, -0.052330372341350184\n"
          ],
          "name": "stdout"
        }
      ]
    },
    {
      "cell_type": "code",
      "metadata": {
        "id": "QI9JMmXJppYw",
        "colab_type": "code",
        "colab": {}
      },
      "source": [
        "import numpy as np\n",
        "\n",
        "x_train = np.array(x_train)\n",
        "y_train = np.array(y_train)\n",
        "x_test = np.array(x_test)\n",
        "y_test = np.array(y_test)"
      ],
      "execution_count": 15,
      "outputs": []
    },
    {
      "cell_type": "code",
      "metadata": {
        "id": "8pGyW2w0ptie",
        "colab_type": "code",
        "colab": {}
      },
      "source": [
        "y_pred_train = []\n",
        "for i in x_train:\n",
        "  y_p_tr = (m * i) - c\n",
        "  y_pred_train.append(y_p_tr)\n",
        "y_pred_train = np.array(y_pred_train)"
      ],
      "execution_count": 17,
      "outputs": []
    },
    {
      "cell_type": "code",
      "metadata": {
        "id": "aKSHxM4DpvIW",
        "colab_type": "code",
        "colab": {}
      },
      "source": [
        "y_pred_test = []\n",
        "for i in x_test:\n",
        "  y_p_te = (m * i) - c\n",
        "  y_pred_test.append(y_p_te)\n",
        "y_pred_test = np.array(y_pred_test)"
      ],
      "execution_count": 18,
      "outputs": []
    },
    {
      "cell_type": "code",
      "metadata": {
        "id": "Q5P9MAwBpxMw",
        "colab_type": "code",
        "colab": {
          "base_uri": "https://localhost:8080/",
          "height": 68
        },
        "outputId": "109f4de0-33b5-4699-efb7-b274bda68771"
      },
      "source": [
        "import math\n",
        "from sklearn.metrics import mean_squared_error \n",
        "from sklearn.metrics import mean_absolute_error\n",
        "\n",
        "\n",
        "#Training Accuracies\n",
        "mse = math.sqrt(mean_squared_error(y_train, y_pred_train)) \n",
        "print('Root mean square error', mse) \n",
        "mse = (mean_squared_error(y_train, y_pred_train)) \n",
        "print('Mean square error', mse) \n",
        "mae=mean_absolute_error(y_train, y_pred_train)\n",
        "print('Mean absolute error', mae)"
      ],
      "execution_count": 19,
      "outputs": [
        {
          "output_type": "stream",
          "text": [
            "Root mean square error 0.7113934377666099\n",
            "Mean square error 0.5060806232973954\n",
            "Mean absolute error 0.4716670901963416\n"
          ],
          "name": "stdout"
        }
      ]
    },
    {
      "cell_type": "code",
      "metadata": {
        "id": "Aj8p62gYpy4g",
        "colab_type": "code",
        "colab": {
          "base_uri": "https://localhost:8080/",
          "height": 68
        },
        "outputId": "5af9e095-af40-4a7c-ed18-ce2ba2d0a641"
      },
      "source": [
        "#Testing Accuracies\n",
        "mse = math.sqrt(mean_squared_error(y_test, y_pred_test)) \n",
        "print('Root mean square error', mse) \n",
        "mse = (mean_squared_error(y_test, y_pred_test)) \n",
        "print('Mean square error', mse) \n",
        "mae=mean_absolute_error(y_test, y_pred_test)\n",
        "print('Mean absolute error', mae)"
      ],
      "execution_count": 20,
      "outputs": [
        {
          "output_type": "stream",
          "text": [
            "Root mean square error 0.762331323793402\n",
            "Mean square error 0.5811490472366007\n",
            "Mean absolute error 0.49207871795139424\n"
          ],
          "name": "stdout"
        }
      ]
    }
  ]
}