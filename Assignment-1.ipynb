{
  "nbformat": 4,
  "nbformat_minor": 0,
  "metadata": {
    "colab": {
      "name": "Assignment-A1.ipynb",
      "provenance": [],
      "authorship_tag": "ABX9TyOJCvvlEjZ9GIfdLlKRE5y0"
    },
    "kernelspec": {
      "name": "python3",
      "display_name": "Python 3"
    }
  },
  "cells": [
    {
      "cell_type": "markdown",
      "metadata": {
        "id": "0ONCQmtTv5YY",
        "colab_type": "text"
      },
      "source": [
        "##Assignment-1\n",
        "A farmer has recently acquired a 110 hectares piece of land. He has\n",
        "decided to grow Wheat and barley on that land. Due to the quality\n",
        "of the sun and the region’s excellent climate, the entire production of\n",
        "Wheat and Barley can be sold. He wants to know how to plant each\n",
        "variety in the 110 hectares, given the costs, net profits and labor\n",
        "requirements according to the data shown below:\n",
        "\n",
        "| Crop | Cost (Rs/Hec) | Profit (Price/Hec) | Man-days/Hec |\n",
        "| - | - | - | - |\n",
        "| Wheat | 7000 | 50 | 10 |\n",
        "| Barley | 2000 | 120 | 30 |\n",
        "\n",
        "The farmer has a budget of Rs. 7,00,000 and availability of 1,200\n",
        "man-days during the planning horizon. Find the optimal solution and\n",
        "the optimal value.\n"
      ]
    },
    {
      "cell_type": "code",
      "metadata": {
        "id": "oby3Z94srTCc",
        "colab_type": "code",
        "colab": {
          "base_uri": "https://localhost:8080/",
          "height": 163
        },
        "outputId": "248a1fc9-7153-4cb3-9070-c3e65f410115"
      },
      "source": [
        "from scipy.optimize import linprog\n",
        "obj  = [-50, -120]\n",
        "lhs_ieq = [[10, 30], [7000, 2000], [1, 1]]\n",
        "rhs_ieq = [1200, 700000, 110]\n",
        "bnd = [(0, float(\"inf\")), (0, float(\"inf\"))]\n",
        "opt = linprog(c = obj, A_ub = lhs_ieq, b_ub = rhs_ieq, bounds = bnd, method = \"Simplex\")\n",
        "opt"
      ],
      "execution_count": 4,
      "outputs": [
        {
          "output_type": "execute_result",
          "data": {
            "text/plain": [
              "     con: array([], dtype=float64)\n",
              "     fun: -5778.9473684210525\n",
              " message: 'Optimization terminated successfully.'\n",
              "     nit: 3\n",
              "   slack: array([0.        , 0.        , 4.73684211])\n",
              "  status: 0\n",
              " success: True\n",
              "       x: array([97.89473684,  7.36842105])"
            ]
          },
          "metadata": {
            "tags": []
          },
          "execution_count": 4
        }
      ]
    },
    {
      "cell_type": "code",
      "metadata": {
        "id": "uJOxNunNuBoF",
        "colab_type": "code",
        "colab": {
          "base_uri": "https://localhost:8080/",
          "height": 72
        },
        "outputId": "263ae8ed-e53f-4032-9dd9-3016394c69cc"
      },
      "source": [
        "print(f'Plantation areas for Maximum Profit\\nArea of land(hec) for growing Wheat: {opt.x[0]}\\nArea of land(hec) for growing Barley: {opt.x[1]}')"
      ],
      "execution_count": 6,
      "outputs": [
        {
          "output_type": "stream",
          "text": [
            "Plantation areas for Maximum Profit\n",
            "Area of land(hec) for growing Wheat: 97.89473684210526\n",
            "Area of land(hec) for growing Barley: 7.368421052631579\n"
          ],
          "name": "stdout"
        }
      ]
    }
  ]
}
